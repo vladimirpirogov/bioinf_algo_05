{
 "cells": [
  {
   "cell_type": "markdown",
   "metadata": {},
   "source": [
    "# Домашнее задание 5\n",
    "\n",
    "Упражнение 2\n",
    "\n",
    "# NJ"
   ]
  },
  {
   "cell_type": "code",
   "execution_count": 29,
   "metadata": {},
   "outputs": [],
   "source": [
    "import numpy as np\n",
    "import copy\n",
    "import operator"
   ]
  },
  {
   "cell_type": "code",
   "execution_count": 30,
   "metadata": {},
   "outputs": [],
   "source": [
    "def minimum(x):\n",
    "    n = len(x)\n",
    "    m = len(x[0])\n",
    "    min_t = x[0][1]\n",
    "    pos_min = [0, 1]\n",
    "\n",
    "    for i in range(m):\n",
    "        for j in range(i + 1, m):\n",
    "\n",
    "            if x[i][j] < min_t:\n",
    "                min_t = x[i][j]\n",
    "                pos_min = [i, j]\n",
    "    return [min_t, pos_min]"
   ]
  },
  {
   "cell_type": "code",
   "execution_count": 31,
   "metadata": {},
   "outputs": [],
   "source": [
    "def sym(x):\n",
    "    length = len(x)\n",
    "    for i in range(length):\n",
    "        for j in range(length):\n",
    "            x[j][i] = x[i][j]\n",
    "    return x"
   ]
  },
  {
   "cell_type": "code",
   "execution_count": 32,
   "metadata": {},
   "outputs": [],
   "source": [
    "def col_sum(x):\n",
    "    length = len(x)\n",
    "    answer = []\n",
    "    s = 0\n",
    "    for i in range(length):\n",
    "        s = 0\n",
    "        for j in range(length):\n",
    "            s += x[i][j]    \n",
    "        answer.append(s)\n",
    "    return answer"
   ]
  },
  {
   "cell_type": "code",
   "execution_count": 33,
   "metadata": {},
   "outputs": [],
   "source": [
    "def str_sum(x):\n",
    "    answer = []\n",
    "    for i in range(len(x)):\n",
    "        answer.append(sum(x[i]))\n",
    "    return answer"
   ]
  },
  {
   "cell_type": "code",
   "execution_count": 34,
   "metadata": {},
   "outputs": [],
   "source": [
    "def q_matrix(d):\n",
    "    Q = copy.deepcopy(d)\n",
    "    length = len(d)\n",
    "    sum_col = col_sum(d)\n",
    "    sum_str = str_sum(d)\n",
    "    for i in range(length):\n",
    "        for j in range(length):\n",
    "            if i!= j:\n",
    "                Q[i][j] = (length - 2) * d[i][j] - sum_col[i] - sum_str[j]\n",
    "    return Q\n"
   ]
  },
  {
   "cell_type": "code",
   "execution_count": 35,
   "metadata": {},
   "outputs": [],
   "source": [
    "def delta(d, a_pos, b_pos):\n",
    "    n = len(d)\n",
    "    \n",
    "    sum_col = col_sum(d)\n",
    "    sum_str = str_sum(d)\n",
    "    \n",
    "    delta_1 = 0.5*d[a_pos][b_pos] + 0.5/(n-2) * (sum_col[a_pos] - sum_str[b_pos]) \n",
    "    \n",
    "    delta_2 = d[a_pos][b_pos] - delta_1\n",
    "        \n",
    "    return [delta_1, delta_2]"
   ]
  },
  {
   "cell_type": "code",
   "execution_count": 36,
   "metadata": {},
   "outputs": [],
   "source": [
    "def delete_str_row(x, i):\n",
    "    for k in range(len(x)):\n",
    "        del x[k][i]\n",
    "    del x[i]\n",
    "    return x"
   ]
  },
  {
   "cell_type": "code",
   "execution_count": 37,
   "metadata": {},
   "outputs": [],
   "source": [
    "def update(dist, a_pos, b_pos, m):\n",
    "    a_pos = min(a_pos, b_pos)\n",
    "    b_pos = max(a_pos, b_pos) \n",
    "    for i in range(len(dist)):\n",
    "        if (i != a_pos) and (i!=b_pos):\n",
    "            dist[b_pos][i] = 0.5 * (dist[b_pos][i] + dist[a_pos][i] - m)\n",
    "            dist[i][b_pos] = 0.5 * (dist[i][b_pos] + dist[i][a_pos] - m)\n",
    "    \n",
    "    \n",
    "    dist = delete_str_row(dist, a_pos)\n",
    "\n",
    "    return dist"
   ]
  },
  {
   "cell_type": "code",
   "execution_count": 38,
   "metadata": {},
   "outputs": [],
   "source": [
    "def to_normal_string(answer):\n",
    "    answer = str(answer)\n",
    "    answer = answer.replace('\"','')\n",
    "    answer = answer.replace(']', ')')\n",
    "    answer = answer.replace('[', '(')\n",
    "    answer = answer.replace(\"'\", \" \")\n",
    "    answer = answer.replace(\"\\\\\", \" \")\n",
    "    answer = answer.replace(\"  \", \"\")\n",
    "    return answer"
   ]
  },
  {
   "cell_type": "code",
   "execution_count": 39,
   "metadata": {},
   "outputs": [],
   "source": [
    "def NJ (dist, actual):    \n",
    "    dist = sym(dist)\n",
    "    ss = copy.deepcopy(actual)\n",
    "    answer = copy.deepcopy(actual)\n",
    "    \n",
    "    while len(dist) >=3:\n",
    "        Q = q_matrix(dist)\n",
    "        \n",
    "        temp_min = minimum(Q)\n",
    "        # print(dist)\n",
    "        delta_1, delta_2 = delta(dist, temp_min[1][0], temp_min[1][1])\n",
    "        # print(dist[temp_min[1][0]][temp_min[1][1]])\n",
    "        dist = update(dist, temp_min[1][0], temp_min[1][1], dist[temp_min[1][0]][temp_min[1][1]])\n",
    "        print(dist)\n",
    "        # print(Q)\n",
    "        \n",
    "        if len(dist) == 2:\n",
    "            patch = dist[0][1]\n",
    "        \n",
    "\n",
    "        actual[temp_min[1][1]] = [actual[temp_min[1][1]]]\n",
    "        actual[temp_min[1][1]].append(actual[temp_min[1][0]])\n",
    "        \n",
    "        answer[temp_min[1][1]] = [answer[temp_min[1][1]]]\n",
    "        answer[temp_min[1][1]].append(answer[temp_min[1][0]])\n",
    "        \n",
    "        # actual.remove(actual[temp_min[1][0]])\n",
    "        # answer.remove(answer[temp_min[1][0]])\n",
    "        \n",
    "        actual[temp_min[1][1]] = [actual[temp_min[1][1]][0], delta_2, actual[temp_min[1][1]][1], delta_1 ]\n",
    "            \n",
    "        answer[temp_min[1][1]] = [str(answer[temp_min[1][1]][0])+':'+str(delta_1), str(answer[temp_min[1][1]][1])+':'+str(delta_2)]\n",
    "       \n",
    "        \n",
    "        actual.remove(actual[temp_min[1][0]])\n",
    "        answer.remove(answer[temp_min[1][0]])\n",
    "        # print(delta_1, delta_2)\n",
    "        \n",
    "    # как на последнем шаге определить дельту? вот в чём вопрос.\n",
    "    \n",
    "    actual[temp_min[1][1]] = [actual[temp_min[1][1]]]\n",
    "    actual[temp_min[1][1]].append(actual[temp_min[1][0]])\n",
    "        \n",
    "    answer[temp_min[1][1]] = [answer[temp_min[1][1]]]\n",
    "    answer[temp_min[1][1]].append(answer[temp_min[1][0]])\n",
    "    \n",
    "    delta_1 = patch\n",
    "    delta_2 = patch\n",
    "    actual[temp_min[1][1]] = [actual[temp_min[1][1]][0], delta_2, actual[temp_min[1][1]][1], delta_1 ]\n",
    "    answer[temp_min[1][1]] = [str(answer[temp_min[1][1]][0])+':'+str(delta_1), str(answer[temp_min[1][1]][1])+':'+str(delta_2)]\n",
    "       \n",
    "        \n",
    "    actual.remove(actual[temp_min[1][0]])\n",
    "    answer.remove(answer[temp_min[1][0]])\n",
    "    \n",
    "    \n",
    "    return to_normal_string(answer)\n",
    "    \n"
   ]
  },
  {
   "cell_type": "markdown",
   "metadata": {},
   "source": [
    "В качестве примера и проверки решений воспользуемся следующим примером."
   ]
  },
  {
   "cell_type": "markdown",
   "metadata": {},
   "source": [
    "|   | A  | B  | C  | D  | E  | \n",
    "| - | -  | -  | -  | -  | -  | \n",
    "| A | -  | 5  | 4  | 7  | 6  | \n",
    "| B | -  | -  | 7  | 10 | 9  |\n",
    "| C | -  | -  | -  | 7  | 6  |\n",
    "| D | -  | -  | -  | -  | 5  | \n",
    "| E | -  | -  | -  | -  | -  | "
   ]
  },
  {
   "cell_type": "code",
   "execution_count": 40,
   "metadata": {},
   "outputs": [
    {
     "name": "stdout",
     "output_type": "stream",
     "text": [
      "[[0, 7.0, 7.0, 6.0], [7.0, 0, 8.0, 7.0], [7.0, 8.0, 0, 3.0], [6.0, 7.0, 3.0, 0]]\n",
      "[[0, 4.0, 3.0], [4.0, 0, 3.0], [3.0, 3.0, 0]]\n",
      "[[0, 1.0], [1.0, 0]]\n",
      "(( E:1.0 ,(D:2.0, (C:3.0, (B:2.0, A:3.0):4.0):2.0):1.0 ))\n"
     ]
    }
   ],
   "source": [
    "dist = [[0, 5.0, 9.0, 9.0, 8.0], \n",
    "        [0, 0  ,10.0,10.0, 9.0], \n",
    "        [0, 0  ,   0, 8.0, 7.0], \n",
    "        [0, 0  ,   0,   0, 3.0], \n",
    "        [0, 0  ,   0,   0,   0] ]\n",
    "top_name = ['A', 'B','C','D','E']\n",
    "\n",
    "print(NJ(dist, top_name))\n"
   ]
  },
  {
   "cell_type": "markdown",
   "metadata": {},
   "source": [
    "Тест 1"
   ]
  },
  {
   "cell_type": "markdown",
   "metadata": {},
   "source": [
    "|   | A  | B  | C  | D  |\n",
    "| - | -  | -  | -  | -  |\n",
    "| A | -  | 16 | 16 | 10 |\n",
    "| B | -  | -  | 8  | 8  |\n",
    "| B | -  | -  | -  | 4  |\n",
    "| D | -  | -  | -  | -  |"
   ]
  },
  {
   "cell_type": "code",
   "execution_count": 41,
   "metadata": {},
   "outputs": [
    {
     "name": "stdout",
     "output_type": "stream",
     "text": [
      "[[0, 8.0, 7.0], [8.0, 0, 5.0], [7.0, 5.0, 0]]\n",
      "[[0, 2.0], [2.0, 0]]\n",
      "((( D:10.0 ,A:0.0 ):2.0, ( C:5.0 ,B:3.0 ):2.0))\n"
     ]
    }
   ],
   "source": [
    "\n",
    "dist = [[0,16.0,16.0,10.0], \n",
    "        [0, 0  , 8.0, 8.0], \n",
    "        [0, 0  ,   0, 4.0], \n",
    "        [0, 0  ,   0,  0]]\n",
    "top_name = ['A', 'B','C','D']\n",
    "\n",
    "print(NJ(dist, top_name))"
   ]
  },
  {
   "cell_type": "markdown",
   "metadata": {},
   "source": [
    "Тест 2"
   ]
  },
  {
   "cell_type": "markdown",
   "metadata": {},
   "source": [
    "|   | A  | B  | C  | D  | E  | F  |\n",
    "| - | -  | -  | -  | -  | -  | -  |\n",
    "| A | -  | 5  | 4  | 7  | 6  | 8  |\n",
    "| B | -  | -  | 7  | 10 | 9  | 11 |\n",
    "| C | -  | -  | -  | 7  | 6  | 8  |\n",
    "| D | -  | -  | -  | -  | 5  | 9  |\n",
    "| E | -  | -  | -  | -  | -  | 8  | \n",
    "| F | -  | -  | -  | -  | -  | -  | "
   ]
  },
  {
   "cell_type": "code",
   "execution_count": 42,
   "metadata": {},
   "outputs": [
    {
     "name": "stdout",
     "output_type": "stream",
     "text": [
      "[[0, 3.0, 6.0, 5.0, 7.0], [3.0, 0, 7.0, 6.0, 8.0], [6.0, 7.0, 0, 5.0, 9.0], [5.0, 6.0, 5.0, 0, 8.0], [7.0, 8.0, 9.0, 8.0, 0]]\n",
      "[[0, 5.0, 4.0, 6.0], [5.0, 0, 5.0, 9.0], [4.0, 5.0, 0, 8.0], [6.0, 9.0, 8.0, 0]]\n",
      "[[0, 5.0, 4.0], [5.0, 0, 3.0], [4.0, 3.0, 0]]\n",
      "[[0, 1.0], [1.0, 0]]\n",
      "(( (F:1.0, (C:1.0, (B:1.0, A:4.0):2.0):5.0):1.0 , ( E:3.0 ,D:2.0 ):1.0))\n"
     ]
    }
   ],
   "source": [
    "dist = [[0, 5.0, 4.0, 7.0, 6.0, 8.0], \n",
    "        [0, 0  , 7.0,10.0, 9.0,11.0], \n",
    "        [0, 0  ,   0, 7.0, 6.0, 8.0], \n",
    "        [0, 0  ,   0,   0, 5.0, 9.0],\n",
    "        [0, 0  ,   0,   0,   0, 8.0], \n",
    "        [0, 0  ,   0,   0,   0,   0] ]\n",
    "\n",
    "top_name = ['A', 'B','C','D','E','F']\n",
    "\n",
    "print(NJ(dist, top_name))\n",
    "\n"
   ]
  },
  {
   "cell_type": "code",
   "execution_count": null,
   "metadata": {},
   "outputs": [],
   "source": []
  }
 ],
 "metadata": {
  "kernelspec": {
   "display_name": "Python 3",
   "language": "python",
   "name": "python3"
  },
  "language_info": {
   "codemirror_mode": {
    "name": "ipython",
    "version": 3
   },
   "file_extension": ".py",
   "mimetype": "text/x-python",
   "name": "python",
   "nbconvert_exporter": "python",
   "pygments_lexer": "ipython3",
   "version": "3.7.4"
  }
 },
 "nbformat": 4,
 "nbformat_minor": 2
}
