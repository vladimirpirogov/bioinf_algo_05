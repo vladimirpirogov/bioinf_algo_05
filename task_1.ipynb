{
 "cells": [
  {
   "cell_type": "markdown",
   "metadata": {},
   "source": [
    "# Домашнее задание 5\n",
    "\n",
    "Упражнение 1\n",
    "\n",
    "# WPGMA"
   ]
  },
  {
   "cell_type": "markdown",
   "metadata": {},
   "source": [
    "В качестве примерки и отладки будем использовать следующий пример:"
   ]
  },
  {
   "cell_type": "markdown",
   "metadata": {},
   "source": [
    "|   | A  | B  | C  | D  |\n",
    "| - | -  | -  | -  | -  |\n",
    "| A | -  | 5  | 16 | 16 |\n",
    "| B | -  | -  | 16 | 16 |\n",
    "| C | -  | -  | -  | 4  |\n",
    "| D | -  | -  | -  | -  |"
   ]
  },
  {
   "cell_type": "code",
   "execution_count": 3,
   "metadata": {},
   "outputs": [],
   "source": [
    "import numpy as np\n",
    "import copy\n",
    "import operator"
   ]
  },
  {
   "cell_type": "code",
   "execution_count": 4,
   "metadata": {},
   "outputs": [],
   "source": [
    "class Tree:\n",
    "\n",
    "    def init(self, name, weight):\n",
    "\n",
    "        self.left = None\n",
    "        self.right = None\n",
    "        self.name = name\n",
    "        self.weight = weight\n"
   ]
  },
  {
   "cell_type": "code",
   "execution_count": 48,
   "metadata": {},
   "outputs": [],
   "source": [
    "def minimum(x):\n",
    "    n = len(x)\n",
    "    m = len(x[0])\n",
    "    min_t = x[0][1]\n",
    "    pos_min = [0, 1]\n",
    "\n",
    "    for i in range(m):\n",
    "        for j in range(i + 1, m):\n",
    "\n",
    "            if x[i][j] < min_t:\n",
    "                min_t = x[i][j]\n",
    "                pos_min = [i, j]\n",
    "    return [min_t, pos_min]"
   ]
  },
  {
   "cell_type": "code",
   "execution_count": 307,
   "metadata": {},
   "outputs": [],
   "source": [
    "def WPGMA(s, dictio):\n",
    "    dist = copy.copy(s)\n",
    "    length = len(s)\n",
    "    actual = list(dictio.values()) #[i for i in range(length)]\n",
    "    ss = list(dictio.values())\n",
    "    answer = list(dictio.values())\n",
    "    # print(actual)\n",
    "    \n",
    "    top = []\n",
    "    while len(dist) > 1:\n",
    "        temp_min = minimum(dist)\n",
    "        # print(temp_min)\n",
    "        temp_min[1][0] = min(temp_min[1])\n",
    "        temp_min[1][1] = max(temp_min[1])\n",
    "\n",
    "        for j in range(len(dist)):\n",
    "            if j < temp_min[1][0]:\n",
    "                dist[j][temp_min[1][0]] +=  dist[j][temp_min[1][1]]\n",
    "                dist[j][temp_min[1][0]] = dist[j][temp_min[1][0]]/2\n",
    "                # print(dist)\n",
    "                # print('1', j)\n",
    "            if  (temp_min[1][0] <= j) and (j< (temp_min[1][1]-1)):\n",
    "                dist[temp_min[1][0]][j+1] +=  dist[j+1][temp_min[1][1]]\n",
    "                dist[temp_min[1][0]][j+1] = dist[temp_min[1][0]][j+1]/2\n",
    "                # print('2', j)\n",
    "                \n",
    "                \n",
    "            del dist[j][temp_min[1][1]]\n",
    "        # print(dist)\n",
    "        \n",
    "        for j in range(temp_min[1][1],len(dist)-1):\n",
    "            dist[temp_min[1][0]][j] +=  dist[temp_min[1][1]][j]\n",
    "            dist[temp_min[1][0]][j] = dist[temp_min[1][0]][j]/2\n",
    "        dist.remove(dist[temp_min[1][1]])\n",
    "        # print(dist)\n",
    "            \n",
    "            \n",
    "        if   actual[temp_min[1][1]] not in ss or actual[temp_min[1][0]] not in ss:\n",
    "            check = 2\n",
    "        else:\n",
    "            check = 1\n",
    "\n",
    "        actual[temp_min[1][1]] = [actual[temp_min[1][1]]]\n",
    "        actual[temp_min[1][1]].append(actual[temp_min[1][0]])\n",
    "        \n",
    "        answer[temp_min[1][1]] = [answer[temp_min[1][1]]]\n",
    "        answer[temp_min[1][1]].append(answer[temp_min[1][0]])\n",
    "        \n",
    "        # actual.remove(actual[temp_min[1][0]])\n",
    "        # answer.remove(answer[temp_min[1][0]])\n",
    "        \n",
    "        if check == 1:\n",
    "            new_h = temp_min[0]/2\n",
    "            actual[temp_min[1][1]] = [actual[temp_min[1][1]][0], new_h, actual[temp_min[1][1]][1], new_h, new_h ]\n",
    "            \n",
    "            answer[temp_min[1][1]] = [str(answer[temp_min[1][1]][0])+':'+str(new_h), str(answer[temp_min[1][1]][1])+':'+str(new_h)]\n",
    "        else:\n",
    "            # print(actual[temp_min[1][1]],actual[temp_min[1][0]], actual,'ffffff',sep='\\n' )\n",
    "            if actual[temp_min[1][1]][0] not in ss:\n",
    "                a_1 = actual[temp_min[1][1]][0][4]\n",
    "            else:\n",
    "                a_1 = 0\n",
    "            if actual[temp_min[1][1]][1] not in ss:\n",
    "                a_2 = actual[temp_min[1][1]][1][4]\n",
    "            else:\n",
    "                a_2 = 0   \n",
    "            \n",
    "            # print(a_1, a_2)\n",
    "            new_h = (temp_min[0] + a_1 + a_2)/2\n",
    "            # h_1 = ((a_1-a_2)+temp_min[0])/2\n",
    "            # h_2 = ((-a_1+a_2)+temp_min[0])/2\n",
    "            new_h = temp_min[0]/2\n",
    "            h_2 = new_h - a_2\n",
    "            h_1 = new_h - a_1\n",
    "            \n",
    "            \n",
    "            # new_h = (temp_min[0] + actual[temp_min[1][1]][0][4] + actual[temp_min[1][1]][1][4])/2\n",
    "            # h_1 = new_h - actual[temp_min[1][1]][0][4]\n",
    "            # h_2 = new_h - actual[temp_min[1][1]][1][4]\n",
    "            actual[temp_min[1][1]] = [actual[temp_min[1][1]][0],h_1, actual[temp_min[1][1]][1], h_2,new_h ]\n",
    "            answer[temp_min[1][1]] = [str(answer[temp_min[1][1]][0])+':'+str(h_1), str(answer[temp_min[1][1]][1])+':'+str(h_2)]\n",
    "        \n",
    "        actual.remove(actual[temp_min[1][0]])\n",
    "        answer.remove(answer[temp_min[1][0]])\n",
    "        # print(actual)\n",
    "        \n",
    "    # print(actual)\n",
    "    # print(answer)\n",
    "    answer = str(answer)\n",
    "    answer = answer.replace('\"','')\n",
    "    answer = answer.replace(']', ')')\n",
    "    answer = answer.replace('[', '(')\n",
    "    answer = answer.replace(\"'\", \" \")\n",
    "    answer = answer.replace(\"\\\\\", \" \")\n",
    "    answer = answer.replace(\"  \", \"\")\n",
    "    return answer"
   ]
  },
  {
   "cell_type": "code",
   "execution_count": 308,
   "metadata": {},
   "outputs": [
    {
     "name": "stdout",
     "output_type": "stream",
     "text": [
      "((( D:2.0 ,C:2.0 ):6.0, ( B:2.5 ,A:2.5 ):5.5))\n"
     ]
    }
   ],
   "source": [
    "\n",
    "d = [[0, 5  ,16.0,16.0], \n",
    "     [0, 0  ,16.0,16.0], \n",
    "     [0, 0  ,   0, 4.0], \n",
    "     [0, 0  ,   0,   0]]\n",
    "\n",
    "\n",
    "dictionary = {0:'A', 1:'B', 2:'C', 3:'D'}\n",
    "print(WPGMA(d, dictionary))"
   ]
  },
  {
   "cell_type": "markdown",
   "metadata": {},
   "source": [
    "Как видим ответ совпадает с ручными подсчётами"
   ]
  },
  {
   "cell_type": "markdown",
   "metadata": {},
   "source": [
    "Тест 1\n"
   ]
  },
  {
   "cell_type": "markdown",
   "metadata": {},
   "source": [
    "|   | A  | B  | C  | D  |\n",
    "| - | -  | -  | -  | -  |\n",
    "| A | -  | 16 | 16 | 10 |\n",
    "| B | -  | -  | 8  | 8  |\n",
    "| B | -  | -  | -  | 4  |\n",
    "| D | -  | -  | -  | -  |"
   ]
  },
  {
   "cell_type": "code",
   "execution_count": 309,
   "metadata": {},
   "outputs": [
    {
     "name": "stdout",
     "output_type": "stream",
     "text": [
      "(( ((D:2.0, C:2.0):2.0, B:4.0):3.25 ,A:7.25 ))\n"
     ]
    }
   ],
   "source": [
    "d = [[0,16.0,16.0,10.0], \n",
    "     [0, 0  , 8.0, 8.0], \n",
    "     [0, 0  ,   0, 4.0], \n",
    "     [0, 0  ,   0,  0]]\n",
    "\n",
    "\n",
    "dictionary = {0:'A', 1:'B', 2:'C', 3:'D'}\n",
    "print(WPGMA(d, dictionary))"
   ]
  },
  {
   "cell_type": "markdown",
   "metadata": {},
   "source": [
    "Тест 2"
   ]
  },
  {
   "cell_type": "markdown",
   "metadata": {},
   "source": [
    "|   | A  | B  | C  | D  | E  | F  |\n",
    "| - | -  | -  | -  | -  | -  | -  |\n",
    "| A | -  | 5  | 4  | 7  | 6  | 8  |\n",
    "| B | -  | -  | 7  | 10 | 9  | 11 |\n",
    "| C | -  | -  | -  | 7  | 6  | 8  |\n",
    "| D | -  | -  | -  | -  | 5  | 9  |\n",
    "| E | -  | -  | -  | -  | -  | 8  | \n",
    "| F | -  | -  | -  | -  | -  | -  | "
   ]
  },
  {
   "cell_type": "code",
   "execution_count": 310,
   "metadata": {},
   "outputs": [
    {
     "name": "stdout",
     "output_type": "stream",
     "text": [
      "(( F:4.5 ,((E:2.5, D:2.5):1.5, ((C:2.0, A:2.0):1.0, B:3.0):1.0):0.5 ))\n"
     ]
    }
   ],
   "source": [
    "d = [[0, 5.0, 4.0, 7.0, 6.0, 8.0], \n",
    "     [0, 0  , 7.0,10.0, 9.0,11.0], \n",
    "     [0, 0  ,   0, 7.0, 6.0, 8.0], \n",
    "     [0, 0  ,   0,   0, 5.0, 9.0],\n",
    "     [0, 0  ,   0,   0,   0, 8.0], \n",
    "     [0, 0  ,   0,   0,   0,   0] ]\n",
    "\n",
    "\n",
    "dictionary = {0:'A', 1:'B', 2:'C', 3:'D', 4:'E', 5:'F'}\n",
    "print(WPGMA(d, dictionary))"
   ]
  },
  {
   "cell_type": "markdown",
   "metadata": {},
   "source": [
    "Как видим сошлось с подсчитанным мною ответом."
   ]
  },
  {
   "cell_type": "markdown",
   "metadata": {},
   "source": [
    "\n",
    "# UPGMA"
   ]
  },
  {
   "cell_type": "code",
   "execution_count": 330,
   "metadata": {},
   "outputs": [],
   "source": [
    "def UPGMA(s, dictio):\n",
    "    dist = copy.copy(s)\n",
    "    length = len(s)\n",
    "    actual = list(dictio.values()) #[i for i in range(length)]\n",
    "    ss = list(dictio.values())\n",
    "    answer = list(dictio.values())\n",
    "    n_c = [1 for i in range(length)]\n",
    "    # print(actual)\n",
    "    \n",
    "    top = []\n",
    "    while len(dist) > 1:\n",
    "        temp_min = minimum(dist)\n",
    "        # print(temp_min)\n",
    "        temp_min[1][0] = min(temp_min[1])\n",
    "        temp_min[1][1] = max(temp_min[1])\n",
    "\n",
    "        for j in range(len(dist)):\n",
    "            if j < temp_min[1][0]:\n",
    "                dist[j][temp_min[1][0]] = n_c[temp_min[1][1]] * dist[j][temp_min[1][1]] + n_c[temp_min[1][0]] * dist[j][temp_min[1][0]]\n",
    "                temp_round = dist[j][temp_min[1][0]]/(n_c[temp_min[1][1]] + n_c[temp_min[1][0]] )\n",
    "                dist[j][temp_min[1][0]] = round(temp_round, 3)\n",
    "                # print(dist)\n",
    "                # print('1', j)\n",
    "            if  (temp_min[1][0] <= j) and (j< (temp_min[1][1]-1)):\n",
    "                dist[temp_min[1][0]][j+1] = n_c[temp_min[1][1]] * dist[j+1][temp_min[1][1]] + n_c[temp_min[1][0]] * dist[temp_min[1][0]][j+1]\n",
    "                temp_round = dist[temp_min[1][0]][j+1]/(n_c[temp_min[1][1]] + n_c[temp_min[1][0]] )\n",
    "                dist[temp_min[1][0]][j+1] = round(temp_round, 3)\n",
    "                # print('2', j)\n",
    "                \n",
    "                \n",
    "            del dist[j][temp_min[1][1]]\n",
    "        # print(dist)\n",
    "        \n",
    "        for j in range(temp_min[1][1],len(dist)-1):\n",
    "            dist[temp_min[1][0]][j] = n_c[temp_min[1][1]] * dist[temp_min[1][1]][j] +n_c[temp_min[1][0]] * dist[temp_min[1][0]][j]\n",
    "            temp_round = dist[temp_min[1][0]][j]/(n_c[temp_min[1][1]] + n_c[temp_min[1][0]] )\n",
    "            dist[temp_min[1][0]][j] = round(temp_round, 3)\n",
    "        dist.remove(dist[temp_min[1][1]])\n",
    "        # print(dist)\n",
    "            \n",
    "            \n",
    "            \n",
    "        if   actual[temp_min[1][1]] not in ss or actual[temp_min[1][0]] not in ss:\n",
    "            check = 2\n",
    "        else:\n",
    "            check = 1\n",
    "\n",
    "        actual[temp_min[1][1]] = [actual[temp_min[1][1]]]\n",
    "        actual[temp_min[1][1]].append(actual[temp_min[1][0]])\n",
    "        \n",
    "        answer[temp_min[1][1]] = [answer[temp_min[1][1]]]\n",
    "        answer[temp_min[1][1]].append(answer[temp_min[1][0]])\n",
    "        \n",
    "        # actual.remove(actual[temp_min[1][0]])\n",
    "        # answer.remove(answer[temp_min[1][0]])\n",
    "        \n",
    "        if check == 1:\n",
    "            new_h = temp_min[0]/2\n",
    "            actual[temp_min[1][1]] = [actual[temp_min[1][1]][0], new_h, actual[temp_min[1][1]][1], new_h, new_h ]\n",
    "            \n",
    "            answer[temp_min[1][1]] = [str(answer[temp_min[1][1]][0])+':'+str(new_h), str(answer[temp_min[1][1]][1])+':'+str(new_h)]\n",
    "        else:\n",
    "            # print(actual[temp_min[1][1]],actual[temp_min[1][0]], actual,'ffffff',sep='\\n' )\n",
    "            if actual[temp_min[1][1]][0] not in ss:\n",
    "                a_1 = actual[temp_min[1][1]][0][4]\n",
    "            else:\n",
    "                a_1 = 0\n",
    "            if actual[temp_min[1][1]][1] not in ss:\n",
    "                a_2 = actual[temp_min[1][1]][1][4]\n",
    "            else:\n",
    "                a_2 = 0   \n",
    "            \n",
    "            # print(a_1, a_2)\n",
    "            # new_h = (temp_min[0] + a_1 + a_2)/2\n",
    "            # h_1 = ((a_1-a_2)+temp_min[0])/2\n",
    "            # h_2 = ((-a_1+a_2)+temp_min[0])/2\n",
    "            new_h = round(temp_min[0]/2, 3)\n",
    "            h_2 = round(new_h - a_2, 3)\n",
    "            h_1 = round(new_h - a_1, 3)\n",
    "            \n",
    "            \n",
    "            # new_h = (temp_min[0] + actual[temp_min[1][1]][0][4] + actual[temp_min[1][1]][1][4])/2\n",
    "            # h_1 = new_h - actual[temp_min[1][1]][0][4]\n",
    "            # h_2 = new_h - actual[temp_min[1][1]][1][4]\n",
    "            actual[temp_min[1][1]] = [actual[temp_min[1][1]][0],h_1, actual[temp_min[1][1]][1], h_2,new_h ]\n",
    "            answer[temp_min[1][1]] = [str(answer[temp_min[1][1]][0])+':'+str(h_1), str(answer[temp_min[1][1]][1])+':'+str(h_2)]\n",
    "            \n",
    "        n_c[temp_min[1][0]] += n_c[temp_min[1][1]]\n",
    "        del n_c[temp_min[1][1]]\n",
    "        print(n_c)\n",
    "            \n",
    "        actual.remove(actual[temp_min[1][0]])\n",
    "        answer.remove(answer[temp_min[1][0]])\n",
    "        # print(actual)\n",
    "        \n",
    "    # print(actual)\n",
    "    \n",
    "    answer = str(answer)\n",
    "    answer = answer.replace('\"','')\n",
    "    answer = answer.replace(']', ')')\n",
    "    answer = answer.replace('[', '(')\n",
    "    answer = answer.replace(\"'\", \" \")\n",
    "    answer = answer.replace(\"\\\\\", \" \")\n",
    "    answer = answer.replace(\"  \", \"\")\n",
    "    return answer"
   ]
  },
  {
   "cell_type": "markdown",
   "metadata": {},
   "source": [
    "Тест 1"
   ]
  },
  {
   "cell_type": "markdown",
   "metadata": {},
   "source": [
    "|   | A  | B  | C  | D  |\n",
    "| - | -  | -  | -  | -  |\n",
    "| A | -  | 16 | 16 | 10 |\n",
    "| B | -  | -  | 8  | 8  |\n",
    "| C | -  | -  | -  | 4  |\n",
    "| D | -  | -  | -  | -  |"
   ]
  },
  {
   "cell_type": "code",
   "execution_count": 325,
   "metadata": {},
   "outputs": [
    {
     "name": "stdout",
     "output_type": "stream",
     "text": [
      "[1, 1, 2]\n",
      "[1, 3]\n",
      "[4]\n",
      "(( ((D:2.0, C:2.0):2.0, B:4.0):3.0 ,A:7.0 ))\n"
     ]
    }
   ],
   "source": [
    "d = [[0,16.0,16.0,10.0], \n",
    "     [0, 0  , 8.0, 8.0], \n",
    "     [0, 0  ,   0, 4.0], \n",
    "     [0, 0  ,   0,  0]]\n",
    "\n",
    "\n",
    "dictionary = {0:'A', 1:'B', 2:'C', 3:'D'}\n",
    "print(UPGMA(d, dictionary))"
   ]
  },
  {
   "cell_type": "markdown",
   "metadata": {},
   "source": [
    "Тест 2"
   ]
  },
  {
   "cell_type": "markdown",
   "metadata": {},
   "source": [
    "|   | A  | B  | C  | D  | E  | F  |\n",
    "| - | -  | -  | -  | -  | -  | -  |\n",
    "| A | -  | 5  | 4  | 7  | 6  | 8  |\n",
    "| B | -  | -  | 7  | 10 | 9  | 11 |\n",
    "| C | -  | -  | -  | 7  | 6  | 8  |\n",
    "| D | -  | -  | -  | -  | 5  | 9  |\n",
    "| E | -  | -  | -  | -  | -  | 8  | \n",
    "| F | -  | -  | -  | -  | -  | -  | "
   ]
  },
  {
   "cell_type": "code",
   "execution_count": 331,
   "metadata": {},
   "outputs": [
    {
     "name": "stdout",
     "output_type": "stream",
     "text": [
      "[2, 1, 1, 1, 1]\n",
      "[2, 1, 2, 1]\n",
      "[3, 2, 1]\n",
      "[5, 1]\n",
      "[6]\n",
      "(( F:4.4 ,((E:2.5, D:2.5):1.25, ((C:2.0, A:2.0):1.0, B:3.0):0.75):0.65 ))\n"
     ]
    }
   ],
   "source": [
    "d = [[0, 5.0, 4.0, 7.0, 6.0, 8.0], \n",
    "     [0, 0  , 7.0,10.0, 9.0,11.0], \n",
    "     [0, 0  ,   0, 7.0, 6.0, 8.0], \n",
    "     [0, 0  ,   0,   0, 5.0, 9.0],\n",
    "     [0, 0  ,   0,   0,   0, 8.0], \n",
    "     [0, 0  ,   0,   0,   0,   0] ]\n",
    "\n",
    "\n",
    "dictionary = {0:'A', 1:'B', 2:'C', 3:'D', 4:'E', 5:'F'}\n",
    "print(UPGMA(d, dictionary))"
   ]
  },
  {
   "cell_type": "code",
   "execution_count": null,
   "metadata": {},
   "outputs": [],
   "source": []
  }
 ],
 "metadata": {
  "kernelspec": {
   "display_name": "Python 3",
   "language": "python",
   "name": "python3"
  },
  "language_info": {
   "codemirror_mode": {
    "name": "ipython",
    "version": 3
   },
   "file_extension": ".py",
   "mimetype": "text/x-python",
   "name": "python",
   "nbconvert_exporter": "python",
   "pygments_lexer": "ipython3",
   "version": "3.7.4"
  }
 },
 "nbformat": 4,
 "nbformat_minor": 2
}
